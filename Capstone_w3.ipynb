{
  "nbformat": 4,
  "nbformat_minor": 0,
  "metadata": {
    "colab": {
      "name": "Capstone_w3.ipynb",
      "provenance": []
    },
    "kernelspec": {
      "name": "python3",
      "display_name": "Python 3"
    }
  },
  "cells": [
    {
      "cell_type": "code",
      "metadata": {
        "id": "1qamLh8pHETv",
        "colab_type": "code",
        "colab": {}
      },
      "source": [
        "import requests\n",
        "from bs4 import BeautifulSoup\n",
        "import pandas as pd"
      ],
      "execution_count": 0,
      "outputs": []
    },
    {
      "cell_type": "code",
      "metadata": {
        "id": "VSASLveQH5-j",
        "colab_type": "code",
        "colab": {}
      },
      "source": [
        "response_temp = requests.get(\"https://en.wikipedia.org/wiki/List_of_postal_codes_of_Canada:_M\")\n",
        "soup = BeautifulSoup(response_temp.text,'html.parser')"
      ],
      "execution_count": 0,
      "outputs": []
    },
    {
      "cell_type": "code",
      "metadata": {
        "id": "vHPkPaB4Ieta",
        "colab_type": "code",
        "colab": {}
      },
      "source": [
        "df = pd.DataFrame(columns=['PostalCode','Borough','Neighborhood'])"
      ],
      "execution_count": 0,
      "outputs": []
    },
    {
      "cell_type": "code",
      "metadata": {
        "id": "dn9cdwWtKZ75",
        "colab_type": "code",
        "colab": {}
      },
      "source": [
        "tr_nodes = soup.find_all('tr')"
      ],
      "execution_count": 0,
      "outputs": []
    },
    {
      "cell_type": "code",
      "metadata": {
        "id": "gqnBYn33Ltzb",
        "colab_type": "code",
        "outputId": "dd55d4df-f8ac-4c3d-dfee-af026697b584",
        "colab": {
          "base_uri": "https://localhost:8080/",
          "height": 575
        }
      },
      "source": [
        "for node in tr_nodes:\n",
        "  values = node.find_all('td')\n",
        "  try:\n",
        "    if values[0].text == '' or values[1].text == '' or values[2].text == '' or '\\n' in values[0].text or '\\n' in values[1].text:\n",
        "      continue\n",
        "    df = df.append([{'PostalCode':values[0].text,'Borough':values[1].text,'Neighborhood':values[2].text}])\n",
        "  except:\n",
        "    print(values)\n",
        "    print('\\n')\n",
        "df['Neighborhood'] = [x.replace('\\n','') for x in df['Neighborhood']]\n",
        "df"
      ],
      "execution_count": 35,
      "outputs": [
        {
          "output_type": "stream",
          "text": [
            "[]\n",
            "\n",
            "\n",
            "[<td style=\"width:36px; text-align:center\"><a class=\"image\" href=\"/wiki/File:Flag_of_Canada.svg\" title=\"Flag of Canada\"><img alt=\"Flag of Canada\" data-file-height=\"600\" data-file-width=\"1200\" decoding=\"async\" height=\"18\" src=\"//upload.wikimedia.org/wikipedia/en/thumb/c/cf/Flag_of_Canada.svg/36px-Flag_of_Canada.svg.png\" srcset=\"//upload.wikimedia.org/wikipedia/en/thumb/c/cf/Flag_of_Canada.svg/54px-Flag_of_Canada.svg.png 1.5x, //upload.wikimedia.org/wikipedia/en/thumb/c/cf/Flag_of_Canada.svg/72px-Flag_of_Canada.svg.png 2x\" width=\"36\"/></a>\n",
            "</td>, <td style=\"width:36px; text-align:center\"><a class=\"image\" href=\"/wiki/File:Canadian_postal_district_map_(without_legends).svg\"><img alt=\"Canadian postal district map (without legends).svg\" data-file-height=\"846\" data-file-width=\"1000\" decoding=\"async\" height=\"18\" src=\"//upload.wikimedia.org/wikipedia/commons/thumb/e/eb/Canadian_postal_district_map_%28without_legends%29.svg/21px-Canadian_postal_district_map_%28without_legends%29.svg.png\" srcset=\"//upload.wikimedia.org/wikipedia/commons/thumb/e/eb/Canadian_postal_district_map_%28without_legends%29.svg/32px-Canadian_postal_district_map_%28without_legends%29.svg.png 1.5x, //upload.wikimedia.org/wikipedia/commons/thumb/e/eb/Canadian_postal_district_map_%28without_legends%29.svg/43px-Canadian_postal_district_map_%28without_legends%29.svg.png 2x\" width=\"21\"/></a>\n",
            "</td>]\n",
            "\n",
            "\n"
          ],
          "name": "stdout"
        },
        {
          "output_type": "execute_result",
          "data": {
            "text/html": [
              "<div>\n",
              "<style scoped>\n",
              "    .dataframe tbody tr th:only-of-type {\n",
              "        vertical-align: middle;\n",
              "    }\n",
              "\n",
              "    .dataframe tbody tr th {\n",
              "        vertical-align: top;\n",
              "    }\n",
              "\n",
              "    .dataframe thead th {\n",
              "        text-align: right;\n",
              "    }\n",
              "</style>\n",
              "<table border=\"1\" class=\"dataframe\">\n",
              "  <thead>\n",
              "    <tr style=\"text-align: right;\">\n",
              "      <th></th>\n",
              "      <th>PostalCode</th>\n",
              "      <th>Borough</th>\n",
              "      <th>Neighborhood</th>\n",
              "    </tr>\n",
              "  </thead>\n",
              "  <tbody>\n",
              "    <tr>\n",
              "      <th>0</th>\n",
              "      <td>M1A</td>\n",
              "      <td>Not assigned</td>\n",
              "      <td>Not assigned</td>\n",
              "    </tr>\n",
              "    <tr>\n",
              "      <th>0</th>\n",
              "      <td>M2A</td>\n",
              "      <td>Not assigned</td>\n",
              "      <td>Not assigned</td>\n",
              "    </tr>\n",
              "    <tr>\n",
              "      <th>0</th>\n",
              "      <td>M3A</td>\n",
              "      <td>North York</td>\n",
              "      <td>Parkwoods</td>\n",
              "    </tr>\n",
              "    <tr>\n",
              "      <th>0</th>\n",
              "      <td>M4A</td>\n",
              "      <td>North York</td>\n",
              "      <td>Victoria Village</td>\n",
              "    </tr>\n",
              "    <tr>\n",
              "      <th>0</th>\n",
              "      <td>M5A</td>\n",
              "      <td>Downtown Toronto</td>\n",
              "      <td>Harbourfront</td>\n",
              "    </tr>\n",
              "    <tr>\n",
              "      <th>...</th>\n",
              "      <td>...</td>\n",
              "      <td>...</td>\n",
              "      <td>...</td>\n",
              "    </tr>\n",
              "    <tr>\n",
              "      <th>0</th>\n",
              "      <td>M8Z</td>\n",
              "      <td>Etobicoke</td>\n",
              "      <td>Mimico NW</td>\n",
              "    </tr>\n",
              "    <tr>\n",
              "      <th>0</th>\n",
              "      <td>M8Z</td>\n",
              "      <td>Etobicoke</td>\n",
              "      <td>The Queensway West</td>\n",
              "    </tr>\n",
              "    <tr>\n",
              "      <th>0</th>\n",
              "      <td>M8Z</td>\n",
              "      <td>Etobicoke</td>\n",
              "      <td>Royal York South West</td>\n",
              "    </tr>\n",
              "    <tr>\n",
              "      <th>0</th>\n",
              "      <td>M8Z</td>\n",
              "      <td>Etobicoke</td>\n",
              "      <td>South of Bloor</td>\n",
              "    </tr>\n",
              "    <tr>\n",
              "      <th>0</th>\n",
              "      <td>M9Z</td>\n",
              "      <td>Not assigned</td>\n",
              "      <td>Not assigned</td>\n",
              "    </tr>\n",
              "  </tbody>\n",
              "</table>\n",
              "<p>287 rows × 3 columns</p>\n",
              "</div>"
            ],
            "text/plain": [
              "   PostalCode           Borough           Neighborhood\n",
              "0         M1A      Not assigned           Not assigned\n",
              "0         M2A      Not assigned           Not assigned\n",
              "0         M3A        North York              Parkwoods\n",
              "0         M4A        North York       Victoria Village\n",
              "0         M5A  Downtown Toronto           Harbourfront\n",
              "..        ...               ...                    ...\n",
              "0         M8Z         Etobicoke              Mimico NW\n",
              "0         M8Z         Etobicoke     The Queensway West\n",
              "0         M8Z         Etobicoke  Royal York South West\n",
              "0         M8Z         Etobicoke         South of Bloor\n",
              "0         M9Z      Not assigned           Not assigned\n",
              "\n",
              "[287 rows x 3 columns]"
            ]
          },
          "metadata": {
            "tags": []
          },
          "execution_count": 35
        }
      ]
    },
    {
      "cell_type": "code",
      "metadata": {
        "id": "u72uPa22M18w",
        "colab_type": "code",
        "outputId": "3ca7d89c-0527-4989-f5b1-72983266facf",
        "colab": {
          "base_uri": "https://localhost:8080/",
          "height": 419
        }
      },
      "source": [
        "df = df[df['Borough']!= 'Not assigned']\n",
        "df"
      ],
      "execution_count": 36,
      "outputs": [
        {
          "output_type": "execute_result",
          "data": {
            "text/html": [
              "<div>\n",
              "<style scoped>\n",
              "    .dataframe tbody tr th:only-of-type {\n",
              "        vertical-align: middle;\n",
              "    }\n",
              "\n",
              "    .dataframe tbody tr th {\n",
              "        vertical-align: top;\n",
              "    }\n",
              "\n",
              "    .dataframe thead th {\n",
              "        text-align: right;\n",
              "    }\n",
              "</style>\n",
              "<table border=\"1\" class=\"dataframe\">\n",
              "  <thead>\n",
              "    <tr style=\"text-align: right;\">\n",
              "      <th></th>\n",
              "      <th>PostalCode</th>\n",
              "      <th>Borough</th>\n",
              "      <th>Neighborhood</th>\n",
              "    </tr>\n",
              "  </thead>\n",
              "  <tbody>\n",
              "    <tr>\n",
              "      <th>0</th>\n",
              "      <td>M3A</td>\n",
              "      <td>North York</td>\n",
              "      <td>Parkwoods</td>\n",
              "    </tr>\n",
              "    <tr>\n",
              "      <th>0</th>\n",
              "      <td>M4A</td>\n",
              "      <td>North York</td>\n",
              "      <td>Victoria Village</td>\n",
              "    </tr>\n",
              "    <tr>\n",
              "      <th>0</th>\n",
              "      <td>M5A</td>\n",
              "      <td>Downtown Toronto</td>\n",
              "      <td>Harbourfront</td>\n",
              "    </tr>\n",
              "    <tr>\n",
              "      <th>0</th>\n",
              "      <td>M6A</td>\n",
              "      <td>North York</td>\n",
              "      <td>Lawrence Heights</td>\n",
              "    </tr>\n",
              "    <tr>\n",
              "      <th>0</th>\n",
              "      <td>M6A</td>\n",
              "      <td>North York</td>\n",
              "      <td>Lawrence Manor</td>\n",
              "    </tr>\n",
              "    <tr>\n",
              "      <th>...</th>\n",
              "      <td>...</td>\n",
              "      <td>...</td>\n",
              "      <td>...</td>\n",
              "    </tr>\n",
              "    <tr>\n",
              "      <th>0</th>\n",
              "      <td>M8Z</td>\n",
              "      <td>Etobicoke</td>\n",
              "      <td>Kingsway Park South West</td>\n",
              "    </tr>\n",
              "    <tr>\n",
              "      <th>0</th>\n",
              "      <td>M8Z</td>\n",
              "      <td>Etobicoke</td>\n",
              "      <td>Mimico NW</td>\n",
              "    </tr>\n",
              "    <tr>\n",
              "      <th>0</th>\n",
              "      <td>M8Z</td>\n",
              "      <td>Etobicoke</td>\n",
              "      <td>The Queensway West</td>\n",
              "    </tr>\n",
              "    <tr>\n",
              "      <th>0</th>\n",
              "      <td>M8Z</td>\n",
              "      <td>Etobicoke</td>\n",
              "      <td>Royal York South West</td>\n",
              "    </tr>\n",
              "    <tr>\n",
              "      <th>0</th>\n",
              "      <td>M8Z</td>\n",
              "      <td>Etobicoke</td>\n",
              "      <td>South of Bloor</td>\n",
              "    </tr>\n",
              "  </tbody>\n",
              "</table>\n",
              "<p>210 rows × 3 columns</p>\n",
              "</div>"
            ],
            "text/plain": [
              "   PostalCode           Borough              Neighborhood\n",
              "0         M3A        North York                 Parkwoods\n",
              "0         M4A        North York          Victoria Village\n",
              "0         M5A  Downtown Toronto              Harbourfront\n",
              "0         M6A        North York          Lawrence Heights\n",
              "0         M6A        North York            Lawrence Manor\n",
              "..        ...               ...                       ...\n",
              "0         M8Z         Etobicoke  Kingsway Park South West\n",
              "0         M8Z         Etobicoke                 Mimico NW\n",
              "0         M8Z         Etobicoke        The Queensway West\n",
              "0         M8Z         Etobicoke     Royal York South West\n",
              "0         M8Z         Etobicoke            South of Bloor\n",
              "\n",
              "[210 rows x 3 columns]"
            ]
          },
          "metadata": {
            "tags": []
          },
          "execution_count": 36
        }
      ]
    },
    {
      "cell_type": "code",
      "metadata": {
        "id": "KiD8ALOJM3cS",
        "colab_type": "code",
        "outputId": "95c2be20-b2f3-429c-c968-cef6f1609467",
        "colab": {
          "base_uri": "https://localhost:8080/",
          "height": 238
        }
      },
      "source": [
        "df = df.groupby(['PostalCode', 'Borough']).apply(', '.join)\n",
        "df"
      ],
      "execution_count": 37,
      "outputs": [
        {
          "output_type": "execute_result",
          "data": {
            "text/plain": [
              "PostalCode  Borough    \n",
              "M1B         Scarborough    PostalCode, Borough, Neighborhood\n",
              "M1C         Scarborough    PostalCode, Borough, Neighborhood\n",
              "M1E         Scarborough    PostalCode, Borough, Neighborhood\n",
              "M1G         Scarborough    PostalCode, Borough, Neighborhood\n",
              "M1H         Scarborough    PostalCode, Borough, Neighborhood\n",
              "                                         ...                \n",
              "M9N         York           PostalCode, Borough, Neighborhood\n",
              "M9P         Etobicoke      PostalCode, Borough, Neighborhood\n",
              "M9R         Etobicoke      PostalCode, Borough, Neighborhood\n",
              "M9V         Etobicoke      PostalCode, Borough, Neighborhood\n",
              "M9W         Etobicoke      PostalCode, Borough, Neighborhood\n",
              "Length: 103, dtype: object"
            ]
          },
          "metadata": {
            "tags": []
          },
          "execution_count": 37
        }
      ]
    },
    {
      "cell_type": "code",
      "metadata": {
        "id": "L8NlSUnMQaww",
        "colab_type": "code",
        "colab": {
          "base_uri": "https://localhost:8080/",
          "height": 34
        },
        "outputId": "3ff918ef-b36e-472b-ee7a-0d18ebe22985"
      },
      "source": [
        "df.shape"
      ],
      "execution_count": 39,
      "outputs": [
        {
          "output_type": "execute_result",
          "data": {
            "text/plain": [
              "(103,)"
            ]
          },
          "metadata": {
            "tags": []
          },
          "execution_count": 39
        }
      ]
    },
    {
      "cell_type": "code",
      "metadata": {
        "id": "Y6JPSY3-uLzs",
        "colab_type": "code",
        "colab": {}
      },
      "source": [
        ""
      ],
      "execution_count": 0,
      "outputs": []
    }
  ]
}